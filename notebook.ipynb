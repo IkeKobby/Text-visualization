{
 "cells": [
  {
   "cell_type": "markdown",
   "metadata": {},
   "source": [
    "# Text visualization by Journal of Publication"
   ]
  },
  {
   "cell_type": "code",
   "execution_count": 10,
   "metadata": {},
   "outputs": [],
   "source": [
    "import os\n",
    "import pandas as pd"
   ]
  },
  {
   "cell_type": "code",
   "execution_count": 2,
   "metadata": {},
   "outputs": [
    {
     "name": "stdout",
     "output_type": "stream",
     "text": [
      "Main directory: ./data/, subdirectory: ['hal', 'EJA', 'Els'] and the files []\n",
      "Main directory: ./data/hal, subdirectory: [] and the files ['2005_POUSSIN_RiceSenegalRiver.txt']\n",
      "Main directory: ./data/EJA, subdirectory: [] and the files ['2003_Poussin_SenegalRice.txt', 'EJA_SRvrice.txt', 'Gérardeaux_ASD.txt']\n",
      "Main directory: ./data/Els, subdirectory: [] and the files ['FCR_SRVRice.txt', 'Escobar_JEM.txt', 'CEA_SRVRice.txt']\n"
     ]
    }
   ],
   "source": [
    "for root, dir, files in os.walk('./data/'):\n",
    "    print(f\"Main directory: {root}, subdirectory: {dir} and the files {files}\")f"
   ]
  },
  {
   "cell_type": "code",
   "execution_count": 7,
   "metadata": {},
   "outputs": [],
   "source": [
    "def parseTextFiles(filespath):\n",
    "\n",
    "    \"\"\"\n",
    "    Args:\n",
    "        filepath: List of subdirectories containing `.txt` files.\n",
    "                eg `files = ['./data/hal/', './data/EJA/', './data/Els/']`\n",
    "\n",
    "    Return:\n",
    "            A dictionary of all journals and their respective text data.\n",
    "    \"\"\"\n",
    "    alljournalLevel = {\n",
    "                    \"journal\": [],\n",
    "                    \"text\":    []\n",
    "                    }\n",
    "    for file in filespath:\n",
    "        txtFiles = os.listdir(file)\n",
    "        txtFilesPath = [(file + i) for i in txtFiles]\n",
    "\n",
    "        journalLevel = ''\n",
    "        for txt in txtFilesPath:\n",
    "            with open(txt, \"r\") as f:\n",
    "                journalLevel += journalLevel + f.read()\n",
    "\n",
    "        alljournalLevel['text'].append(journalLevel)\n",
    "        alljournalLevel['journal'].append(file.split(\"/\")[2])\n",
    "\n",
    "    return alljournalLevel"
   ]
  },
  {
   "cell_type": "code",
   "execution_count": 8,
   "metadata": {},
   "outputs": [],
   "source": [
    "files = ['./data/hal/', './data/EJA/', './data/Els/']\n",
    "alljournalLevel = parseTextFiles(files)"
   ]
  },
  {
   "cell_type": "code",
   "execution_count": 12,
   "metadata": {},
   "outputs": [
    {
     "data": {
      "text/html": [
       "<div>\n",
       "<style scoped>\n",
       "    .dataframe tbody tr th:only-of-type {\n",
       "        vertical-align: middle;\n",
       "    }\n",
       "\n",
       "    .dataframe tbody tr th {\n",
       "        vertical-align: top;\n",
       "    }\n",
       "\n",
       "    .dataframe thead th {\n",
       "        text-align: right;\n",
       "    }\n",
       "</style>\n",
       "<table border=\"1\" class=\"dataframe\">\n",
       "  <thead>\n",
       "    <tr style=\"text-align: right;\">\n",
       "      <th></th>\n",
       "      <th>journal</th>\n",
       "      <th>text</th>\n",
       "    </tr>\n",
       "  </thead>\n",
       "  <tbody>\n",
       "    <tr>\n",
       "      <th>0</th>\n",
       "      <td>hal</td>\n",
       "      <td>Increase in rice productivity in the Senegal R...</td>\n",
       "    </tr>\n",
       "    <tr>\n",
       "      <th>1</th>\n",
       "      <td>EJA</td>\n",
       "      <td>Determinants of irrigated rice yield in the Se...</td>\n",
       "    </tr>\n",
       "    <tr>\n",
       "      <th>2</th>\n",
       "      <td>Els</td>\n",
       "      <td>Yield, water productivity and nutrient balance...</td>\n",
       "    </tr>\n",
       "  </tbody>\n",
       "</table>\n",
       "</div>"
      ],
      "text/plain": [
       "  journal                                               text\n",
       "0     hal  Increase in rice productivity in the Senegal R...\n",
       "1     EJA  Determinants of irrigated rice yield in the Se...\n",
       "2     Els  Yield, water productivity and nutrient balance..."
      ]
     },
     "execution_count": 12,
     "metadata": {},
     "output_type": "execute_result"
    }
   ],
   "source": [
    "textData = pd.DataFrame(alljournalLevel)\n",
    "textData.head()"
   ]
  },
  {
   "cell_type": "code",
   "execution_count": null,
   "metadata": {},
   "outputs": [],
   "source": []
  }
 ],
 "metadata": {
  "kernelspec": {
   "display_name": "Python 3.10.5 ('nlu')",
   "language": "python",
   "name": "python3"
  },
  "language_info": {
   "codemirror_mode": {
    "name": "ipython",
    "version": 3
   },
   "file_extension": ".py",
   "mimetype": "text/x-python",
   "name": "python",
   "nbconvert_exporter": "python",
   "pygments_lexer": "ipython3",
   "version": "3.10.5"
  },
  "orig_nbformat": 4,
  "vscode": {
   "interpreter": {
    "hash": "db7ab23f6d61f9fb49354a4bf0add7bdf7fcd17e889e506974b3238b65e493bb"
   }
  }
 },
 "nbformat": 4,
 "nbformat_minor": 2
}
